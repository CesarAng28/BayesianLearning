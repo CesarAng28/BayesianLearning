{
 "cells": [
  {
   "cell_type": "markdown",
   "id": "e71bb170",
   "metadata": {},
   "source": [
    "# Assessment\n",
    "## Gamma-Poisson Model \n",
    "\n",
    "Remembering the task where you would like to describe the dynamics of your friend's sandwich shop. We said that -because we were trying to model amounts of events per unit time then we were able to use a __Poisson distribution__ to describe the phenomenon. Also, using Bayesian statistics we said that we could parametrise the model using the __Gamma distribution__ as a prior distribution for the __lambda parameter__ of the distribution. \n",
    "\n",
    "| Day       | x  |\n",
    "|-----------|----|\n",
    "|   Monday  | 50 |\n",
    "|  Tuesday  | 65 |\n",
    "| Wednesday | 72 |\n",
    "|  Thursday | 63 |\n",
    "|   Friday  | 70 |\n",
    "\n",
    "Also, assuming a __Poisson likelyhood__ with __Gamma(a,b)__ prior for the poisson intensity (daily average sandwich demand) $\\mu$, we can derive the posterior distribution for a = 3 and b = 0.02\n",
    "\n",
    "### Deriving the Posterior Parameter PDF. \n",
    "\n",
    "If you remember correctly, using Bayes theorem we arrived to the conclusion that an update in the Gamma-Poisson model was going to result in another Gamma distribution with parameters:\n",
    "\n",
    "$$ \\mu|x \\approx Gamma(a+\\sum_i x_i, b + n) $$\n",
    "\n",
    "\n",
    "Then the new a and b values will be respectively: \n",
    "\n"
   ]
  },
  {
   "cell_type": "code",
   "execution_count": 27,
   "id": "606a8a2f",
   "metadata": {},
   "outputs": [
    {
     "name": "stdout",
     "output_type": "stream",
     "text": [
      "150.0\n"
     ]
    }
   ],
   "source": [
    "import numpy as np\n",
    "a = 3\n",
    "b = 0.02\n",
    "\n",
    "data = np.array([50, 65, 72, 63, 70])\n",
    "n = len(data)\n",
    "mu = np.mean(data)\n",
    "mu\n",
    "print(a/b)"
   ]
  },
  {
   "cell_type": "code",
   "execution_count": 15,
   "id": "16f1ab06",
   "metadata": {},
   "outputs": [
    {
     "name": "stdout",
     "output_type": "stream",
     "text": [
      "a posterior = 323, b posterior = 5.02\n"
     ]
    }
   ],
   "source": [
    "a_p = a + sum(data)\n",
    "b_p = b + n\n",
    "print(\"a posterior = {}, b posterior = {}\".format(a_p, b_p))"
   ]
  },
  {
   "cell_type": "markdown",
   "id": "00ba7834",
   "metadata": {},
   "source": [
    "Following that we know that the new parameters of the Gamma distribution will give us an update belief on how the sandwich shop works. Now - we would be ready to resample the new __Poisson parameter__ in an attempt to have a more accurate model for the data. \n",
    "\n"
   ]
  },
  {
   "cell_type": "code",
   "execution_count": 23,
   "id": "2fa06224",
   "metadata": {},
   "outputs": [],
   "source": [
    "from scipy.special import gamma\n",
    "\n",
    "def gammaDistribution(prior, alpha, beta):\n",
    "    beta**alpha*prior**(alpha-1)*np.exp(-beta*prior)/gamma(alpha)\n",
    "    \n"
   ]
  },
  {
   "cell_type": "code",
   "execution_count": 24,
   "id": "57c15ccc",
   "metadata": {},
   "outputs": [
    {
     "name": "stdout",
     "output_type": "stream",
     "text": [
      "Posterior Poisson Parameter = None\n"
     ]
    },
    {
     "name": "stderr",
     "output_type": "stream",
     "text": [
      "/var/folders/1w/6gs9gdkn4jl7d7dbvfll0y3h0000gn/T/ipykernel_32896/3066281544.py:4: RuntimeWarning: overflow encountered in double_scalars\n",
      "  beta**alpha*prior**(alpha-1)*np.exp(-beta*prior)/gamma(alpha)\n",
      "/var/folders/1w/6gs9gdkn4jl7d7dbvfll0y3h0000gn/T/ipykernel_32896/3066281544.py:4: RuntimeWarning: invalid value encountered in double_scalars\n",
      "  beta**alpha*prior**(alpha-1)*np.exp(-beta*prior)/gamma(alpha)\n"
     ]
    }
   ],
   "source": [
    "mu_p = gammaDistribution(mu, a_p, b_p)\n",
    "print(\"Posterior Poisson Parameter = {}\".format(mu_p))"
   ]
  },
  {
   "cell_type": "code",
   "execution_count": 35,
   "id": "be0fc3b7",
   "metadata": {},
   "outputs": [
    {
     "name": "stdout",
     "output_type": "stream",
     "text": [
      "According to the theory - The new expectation value and variance will be: \n",
      "Expectation Value E(u|y,a,b) = 64.34262948207171\n",
      "Variance Var(u|y,a,b) 12.81725686893859\n"
     ]
    }
   ],
   "source": [
    "p_exp = a_p/b_p\n",
    "p_var = a_p/b_p**2\n",
    "\n",
    "print(\"According to the theory - \\\n",
    "The new expectation value and variance will be: \\\n",
    "\\nExpectation Value E(u|y,a,b) = {}\\nVariance Var(u|y,a,b) {}\\\n",
    "\".format(p_exp, p_var))"
   ]
  },
  {
   "cell_type": "markdown",
   "id": "d8c973d9",
   "metadata": {},
   "source": [
    "## Repeating the Analysis\n",
    "\n",
    "Repeat the analysis now with the values:\n",
    "$$ a = 0.01 \\newline b = 0.01$$"
   ]
  },
  {
   "cell_type": "code",
   "execution_count": 38,
   "id": "a94bd02a",
   "metadata": {},
   "outputs": [
    {
     "name": "stdout",
     "output_type": "stream",
     "text": [
      "1.0\n"
     ]
    }
   ],
   "source": [
    "import numpy as np\n",
    "a = 0.01\n",
    "b = 0.01\n",
    "\n",
    "data = np.array([50, 65, 72, 63, 70])\n",
    "n = len(data)\n",
    "mu = np.mean(data)\n",
    "mu\n",
    "print(a/b)"
   ]
  },
  {
   "cell_type": "code",
   "execution_count": 39,
   "id": "0c5cfd74",
   "metadata": {},
   "outputs": [
    {
     "name": "stdout",
     "output_type": "stream",
     "text": [
      "a posterior = 320.01, b posterior = 5.01\n"
     ]
    }
   ],
   "source": [
    "a_p = a + sum(data)\n",
    "b_p = b + n\n",
    "print(\"a posterior = {}, b posterior = {}\".format(a_p, b_p))"
   ]
  },
  {
   "cell_type": "code",
   "execution_count": null,
   "id": "d1a7405d",
   "metadata": {},
   "outputs": [],
   "source": []
  },
  {
   "cell_type": "code",
   "execution_count": 41,
   "id": "53e77d72",
   "metadata": {
    "scrolled": true
   },
   "outputs": [
    {
     "name": "stdout",
     "output_type": "stream",
     "text": [
      "According to the theory - The new expectation value and variance will be: \n",
      "Expectation Value E(u|y,a,b) = 63.874251497005986\n",
      "Variance Var(u|y,a,b) 12.749351596208781\n"
     ]
    }
   ],
   "source": [
    "p_exp = a_p/b_p\n",
    "p_var = a_p/b_p**2\n",
    "\n",
    "print(\"According to the theory - \\\n",
    "The new expectation value and variance will be: \\\n",
    "\\nExpectation Value E(u|y,a,b) = {}\\nVariance Var(u|y,a,b) {}\\\n",
    "\".format(p_exp, p_var))"
   ]
  },
  {
   "cell_type": "code",
   "execution_count": null,
   "id": "a467675b",
   "metadata": {},
   "outputs": [],
   "source": []
  }
 ],
 "metadata": {
  "kernelspec": {
   "display_name": "Python 3 (ipykernel)",
   "language": "python",
   "name": "python3"
  },
  "language_info": {
   "codemirror_mode": {
    "name": "ipython",
    "version": 3
   },
   "file_extension": ".py",
   "mimetype": "text/x-python",
   "name": "python",
   "nbconvert_exporter": "python",
   "pygments_lexer": "ipython3",
   "version": "3.9.10"
  }
 },
 "nbformat": 4,
 "nbformat_minor": 5
}
